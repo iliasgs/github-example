{
 "cells": [
  {
   "cell_type": "markdown",
   "metadata": {},
   "source": [
    "# The Battle of the Neighborhoods - Week 1"
   ]
  },
  {
   "cell_type": "markdown",
   "metadata": {},
   "source": [
    "## Business Problem "
   ]
  },
  {
   "cell_type": "markdown",
   "metadata": {},
   "source": [
    "New York is well-known around the globe. Not only among travellers but also because it is the financial capital of the US. Moreover, it has a business friendly environment conducive to creating business opportunities. The city is a major center for banking and finance, retailing, world trade, transportation, tourism, real estate, among other things.\n",
    "\n",
    "Such environment suggests that the market is highly competitive. A highly developed city such as New York, often comes with the a heavy price in terms of doing business. Thus, any new business venture or expansion needs to be analysed carefully. Therefore a set of targeted and well-designed marketing strategies are of particular importance in order for businesses to not only to survive such huge costs and competition but also to penetrate the market. The insights derived from a well-rounded analysis will provide a good understanding of the business environment and help to reduce operating risk. Moreover, such strategy will lay the groundwork for a stable/promising return on investment."
   ]
  },
  {
   "cell_type": "markdown",
   "metadata": {},
   "source": [
    "# Description of the Problem"
   ]
  },
  {
   "cell_type": "markdown",
   "metadata": {},
   "source": [
    "New York city is famous for its exquisite and diverse cuisine. It's food culture has been influnced by the city's immigrant history. To name but a few:\n",
    "\n",
    "- Central and Eastern European immigrants, especially Jewish immigrants - bagels, cheesecake, hot dogs, knishes, and delicatessens\n",
    "-Italian immigrants - New York-style pizza and Italian cuisine\n",
    "-Chinese and other Asian restaurants, sandwich joints, trattorias, diners, and coffeehouses are ubiquitous throughout the city\n",
    "\n",
    "A restaurant is a business which prepares and serves food and drink to customers in return for money. To survive in such competitive market it is crucial to plan carefully. There is an array of different factors that need to be takend into account before choosing the location in which to open a restaurant. For example, population, demographics, untapped market, competitors in that location are factors among which someone has to decide on.\n",
    "\n",
    "Therefore, AB Company Ltd. needs to choose the correct location to start its first venture. The first step, that is, choosing the location is important for potential survival and success"
   ]
  },
  {
   "cell_type": "markdown",
   "metadata": {},
   "source": [
    "# Audience to Target"
   ]
  },
  {
   "cell_type": "markdown",
   "metadata": {},
   "source": [
    "AB Company Ltd has appointed me to lead the project of recommending the most appropriate location to open its restaurant. The aim is to locate and recommend to senior management which neighborhood of New York city will be the best choice. More importantly, the Management also expects to understand the reasoning behind my recommendations."
   ]
  },
  {
   "cell_type": "markdown",
   "metadata": {},
   "source": [
    "# Recommendations and Metrics"
   ]
  },
  {
   "cell_type": "markdown",
   "metadata": {},
   "source": [
    "The metrics upon which the recommendations will be based on are the lack of such restaurants in that location (borough/neigborhoods) as well as distance to nearest suppliers of the necessary ingredients."
   ]
  },
  {
   "cell_type": "code",
   "execution_count": null,
   "metadata": {},
   "outputs": [],
   "source": []
  }
 ],
 "metadata": {
  "kernelspec": {
   "display_name": "Python 3",
   "language": "python",
   "name": "python3"
  },
  "language_info": {
   "codemirror_mode": {
    "name": "ipython",
    "version": 3
   },
   "file_extension": ".py",
   "mimetype": "text/x-python",
   "name": "python",
   "nbconvert_exporter": "python",
   "pygments_lexer": "ipython3",
   "version": "3.6.6"
  }
 },
 "nbformat": 4,
 "nbformat_minor": 2
}
